{
 "cells": [
  {
   "cell_type": "code",
   "execution_count": 49,
   "id": "01eeda45",
   "metadata": {},
   "outputs": [
    {
     "name": "stderr",
     "output_type": "stream",
     "text": [
      "C:\\Users\\adri_\\AppData\\Local\\Temp/ipykernel_4324/877806536.py:49: SettingWithCopyWarning: \n",
      "A value is trying to be set on a copy of a slice from a DataFrame.\n",
      "Try using .loc[row_indexer,col_indexer] = value instead\n",
      "\n",
      "See the caveats in the documentation: https://pandas.pydata.org/pandas-docs/stable/user_guide/indexing.html#returning-a-view-versus-a-copy\n",
      "  daily_gross['Date'] = pd.to_datetime(daily_gross['Date'])\n",
      "C:\\Users\\adri_\\AppData\\Local\\Temp/ipykernel_4324/877806536.py:65: SettingWithCopyWarning: \n",
      "A value is trying to be set on a copy of a slice from a DataFrame.\n",
      "Try using .loc[row_indexer,col_indexer] = value instead\n",
      "\n",
      "See the caveats in the documentation: https://pandas.pydata.org/pandas-docs/stable/user_guide/indexing.html#returning-a-view-versus-a-copy\n",
      "  gross_revenue_comparison['Date'] = pd.to_datetime(gross_revenue_comparison['Date'])\n",
      "C:\\Users\\adri_\\AppData\\Local\\Temp/ipykernel_4324/877806536.py:66: SettingWithCopyWarning: \n",
      "A value is trying to be set on a copy of a slice from a DataFrame.\n",
      "Try using .loc[row_indexer,col_indexer] = value instead\n",
      "\n",
      "See the caveats in the documentation: https://pandas.pydata.org/pandas-docs/stable/user_guide/indexing.html#returning-a-view-versus-a-copy\n",
      "  gross_revenue_comparison['%± YD'] = gross_revenue_comparison['%± YD'].apply(pd.to_numeric, errors='coerce')\n",
      "2023-03-02 23:11:08.970 Using categorical units to plot a list of strings that are all parsable as floats or dates. If these strings should be plotted as numbers, cast to the appropriate data type before plotting.\n",
      "2023-03-02 23:11:08.972 Using categorical units to plot a list of strings that are all parsable as floats or dates. If these strings should be plotted as numbers, cast to the appropriate data type before plotting.\n"
     ]
    },
    {
     "data": {
      "text/plain": [
       "DeltaGenerator(_root_container=0, _provided_cursor=None, _parent=None, _block_type=None, _form_data=None)"
      ]
     },
     "execution_count": 49,
     "metadata": {},
     "output_type": "execute_result"
    },
    {
     "data": {
      "text/plain": [
       "<Figure size 720x360 with 0 Axes>"
      ]
     },
     "metadata": {},
     "output_type": "display_data"
    },
    {
     "data": {
      "text/plain": [
       "<Figure size 720x360 with 0 Axes>"
      ]
     },
     "metadata": {},
     "output_type": "display_data"
    },
    {
     "data": {
      "text/plain": [
       "<Figure size 720x360 with 0 Axes>"
      ]
     },
     "metadata": {},
     "output_type": "display_data"
    },
    {
     "data": {
      "text/plain": [
       "<Figure size 720x432 with 0 Axes>"
      ]
     },
     "metadata": {},
     "output_type": "display_data"
    },
    {
     "data": {
      "text/plain": [
       "<Figure size 720x432 with 0 Axes>"
      ]
     },
     "metadata": {},
     "output_type": "display_data"
    }
   ],
   "source": [
    "import streamlit as st\n",
    "import pandas as pd\n",
    "import numpy as np\n",
    "import seaborn as sns\n",
    "import matplotlib.pyplot as plt\n",
    "import matplotlib.dates as md\n",
    "import matplotlib.ticker as ticker\n",
    "import numpy as np\n",
    "import plotly.express as px\n",
    "import altair as alt\n",
    "from datetime import datetime\n",
    "import statistics as stats\n",
    "st.set_page_config(page_title=\"American Box study\", layout=\"wide\",initial_sidebar_state=\"collapsed\")\n",
    "st.title('American Box study')\n",
    "\n",
    "\n",
    "# Load data from excel file\n",
    "data = pd.read_excel(\"box_office_data.xlsx\")\n",
    "#data['Date'] = pd.to_datetime(data['Date'])\n",
    "\n",
    "# Introduction\n",
    "st.title(\"American Box Office Dashboard\")\n",
    "st.markdown(\"The American Box Office is the measurement of the performance of movies in theaters across the United States and Canada. This dashboard will explore the top grossing movies, their releases, and their performance over time. Let's get started!\")\n",
    "\n",
    "# Top 10 Movies Section\n",
    "#st.header(\"Top 10 Movies\")\n",
    "#st.markdown(\"This section shows the top 10 movies by gross revenue.\")\n",
    "#top_10 = data[['#1 Release', 'Gross']].groupby('#1 Release').sum().sort_values(by=['Gross'], ascending=False).head(10)\n",
    "#st.write(top_10)\n",
    "\n",
    "# Top Grossing Movies Over Time Section\n",
    "st.header(\"Top Grossing Movies Over Time\")\n",
    "st.markdown(\"This section shows the top grossing movies over time.\")\n",
    "top_grossing_movies = data.pivot(index='Date', columns='#1 Release', values='Gross')\n",
    "top_grossing_movies = top_grossing_movies.fillna(0)\n",
    "top_grossing_movies = top_grossing_movies.apply(pd.to_numeric, errors='coerce')\n",
    "plt.figure(figsize=(10,5))\n",
    "for column in top_grossing_movies.columns:\n",
    "    plt.plot(top_grossing_movies[column])\n",
    "plt.xlabel('Date')\n",
    "plt.ylabel('Gross Revenue')\n",
    "plt.title('Top Grossing Movies Over Time')\n",
    "st.pyplot()\n",
    "\n",
    "# Daily Gross Revenue Section\n",
    "st.header(\"Daily Gross Revenue\")\n",
    "st.markdown(\"This section shows the daily gross revenue.\")\n",
    "daily_gross = data[['Date', 'Gross']]\n",
    "daily_gross['Date'] = pd.to_datetime(daily_gross['Date'])\n",
    "daily_gross.set_index('Date', inplace=True)\n",
    "daily_gross = daily_gross.resample('D').sum().reset_index()\n",
    "top_grossing_movies = top_grossing_movies.fillna(0)\n",
    "daily_gross['Gross'] = daily_gross['Gross'].apply(pd.to_numeric, errors='coerce')\n",
    "plt.figure(figsize=(10,5))\n",
    "plt.plot(daily_gross['Date'], daily_gross['Gross'])\n",
    "plt.xlabel('Date')\n",
    "plt.ylabel('Gross Revenue')\n",
    "plt.title('Daily Gross Revenue')\n",
    "st.pyplot()\n",
    "\n",
    "# Gross Revenue Comparison Section\n",
    "st.header(\"Gross Revenue Comparison\")\n",
    "st.markdown(\"This section shows the percent change of gross revenue compared to the previous day.\")\n",
    "gross_revenue_comparison = data[['Date', '%± YD']]\n",
    "gross_revenue_comparison['Date'] = pd.to_datetime(gross_revenue_comparison['Date'])\n",
    "gross_revenue_comparison['%± YD'] = gross_revenue_comparison['%± YD'].apply(pd.to_numeric, errors='coerce')\n",
    "plt.figure(figsize=(10,5))\n",
    "plt.plot(gross_revenue_comparison['Date'], gross_revenue_comparison['%± YD'])\n",
    "plt.xlabel('Date')\n",
    "plt.ylabel('% Change in Gross Revenue')\n",
    "plt.title('Gross Revenue Comparison')\n",
    "st.pyplot()\n",
    "\n",
    "# Add line chart of top 10 gross over time\n",
    "plt.figure(figsize=(10, 6))\n",
    "plt.plot(data[\"Date\"], data[\"Top 10 Gross\"], marker=\"o\", color=\"blue\")\n",
    "plt.title(\"Top 10 Gross at American Box Office\")\n",
    "plt.xlabel(\"Date\")\n",
    "plt.ylabel(\"Top 10 Gross\")\n",
    "st.pyplot()\n",
    "\n",
    "# Add bar chart of number of releases by day\n",
    "plt.figure(figsize=(10, 6))\n",
    "plt.bar(data[\"Day\"], data[\"Releases\"], color=\"green\")\n",
    "plt.title(\"Number of Releases by Day\")\n",
    "plt.xlabel(\"Day\")\n",
    "plt.ylabel(\"Number of Releases\")\n",
    "st.pyplot()\n",
    "\n",
    "\n",
    "# Add table of top 10 grossing movies\n",
    "st.markdown(\"## Top 10 Grossing Movies\")\n",
    "st.table(data[[\"#1 Release\", \"Gross\"]][:10])\n"
   ]
  },
  {
   "cell_type": "code",
   "execution_count": 50,
   "id": "ec7d7a41",
   "metadata": {},
   "outputs": [
    {
     "data": {
      "text/plain": [
       "DeltaGenerator(_root_container=0, _provided_cursor=None, _parent=None, _block_type=None, _form_data=None)"
      ]
     },
     "execution_count": 50,
     "metadata": {},
     "output_type": "execute_result"
    }
   ],
   "source": [
    "st.write('')\n",
    "st.markdown('This app has been done by **_Adrià Parcerisas_**, a PhD Biomedical Engineer related to Machine Learning and Artificial intelligence technical projects for data analysis and research, as well as dive deep on-chain data analysis about cryptocurrency projects. You can find me on [Twitter](https://twitter.com/adriaparcerisas)')\n",
    "st.write('')\n",
    "st.markdown('The full sources used to develop this app can be found to the following link: [Github link](https://github.com/adriaparcerisas/Box-Office)')\n",
    "st.markdown('_Powered by [Flipside Crypto](https://flipsidecrypto.xyz) and [MetricsDAO](https://metricsdao.notion.site)_')\n"
   ]
  },
  {
   "cell_type": "code",
   "execution_count": null,
   "id": "d191c05a",
   "metadata": {},
   "outputs": [],
   "source": []
  }
 ],
 "metadata": {
  "kernelspec": {
   "display_name": "Python 3 (ipykernel)",
   "language": "python",
   "name": "python3"
  },
  "language_info": {
   "codemirror_mode": {
    "name": "ipython",
    "version": 3
   },
   "file_extension": ".py",
   "mimetype": "text/x-python",
   "name": "python",
   "nbconvert_exporter": "python",
   "pygments_lexer": "ipython3",
   "version": "3.9.7"
  }
 },
 "nbformat": 4,
 "nbformat_minor": 5
}
